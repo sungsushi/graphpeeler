{
 "cells": [
  {
   "cell_type": "code",
   "execution_count": 1,
   "metadata": {},
   "outputs": [],
   "source": [
    "import pandas as pd\n",
    "import numpy as np\n",
    "import matplotlib.pyplot as plt"
   ]
  },
  {
   "cell_type": "markdown",
   "metadata": {},
   "source": [
    "# Background\n",
    "## Using a \"peeling\" method to get layers in a directed, weighted graph. \n",
    "\n",
    "Here, I implement a model based on a probabilistic graph traversal model given in ([Schlegel et. al, eLife, 2021](https://doi.org/10.7554/eLife.66018)), which \"peels\" the graph to assign a numerical \"layer\" from a set of start nodes. \n",
    "\n",
    "The basic idea is that we have layers of nodes that we have visited at the same step, and the next layer is determined probabilistically based on the following arguments.\n",
    "\n",
    "Suppose we have a weighted, directed adjacency matrix entry $A_{ij}$, giving the weight of the directed edge that links node $i$ to node $j$. \n",
    "\n",
    "Given a node $i$ which we've visited, the probability of traversing to $j$ in the next layer $p_{ij}$, should be proportional to the importance of node $i$ relative to all of node $j$'s in-partners:\n",
    "\n",
    "p_{ij} \\propto \\frac{A_{ij}}{\\sum_k A_{kj}} = \\frac{A_{ij}}{s_{j}^{in}}\n",
    "$$\n",
    "$$\n",
    "where $s_{j}^{in} = \\sum_k A_{kj}$ is the in-strength. We can also define:  $s_{j}^{out} = \\sum_k A_{jk}$ as the out-strength. \n",
    "\n",
    "Additionally, we want to bias the probability to select for nodes that are more outward than inward. This is because a given node is more likely to be higher up in the topological sort if the outgoing edge strength is greater than the incoming edge strength. So, this follows:\n",
    "\n",
    "$$\n",
    "p_{ij} \\propto \\frac{s_{j}^{out}}{s_{j}^{out} + s_{j}^{in}}.\n",
    "$$\n",
    "\n",
    "Altogether, we implement the model with the probability of getting picked in the next layer:\n",
    "$$\n",
    "p_{ij} = \\frac{A_{ij}s_{j}^{out}}{s_{j}^{in}(s_{j}^{out} + s_{j}^{in})}\n",
    "$$\n",
    "\n",
    "\n",
    "## The data:\n",
    "\n",
    "I'm using the [FlyWire minimum feedback challenge data set](https://codex.flywire.ai/app/mfas_challenge) as the test case. A topological sorting of a connectome can be useful in studying information flow and distribution. The challenge was to sort the neurons in the brain such that the sum of the edge weights directed backwards is minimised. \n",
    "\n"
   ]
  },
  {
   "cell_type": "code",
   "execution_count": 2,
   "metadata": {},
   "outputs": [],
   "source": [
    "edge_list = pd.read_csv('./data/connectome_graph.csv')\n",
    "edge_list.rename(columns={'Source Node  ID':'pre', 'Target Node ID':'post', 'Edge Weight':'weight'}, inplace=True)\n",
    "edge_list.pre = edge_list.pre.astype(str)\n",
    "edge_list.post = edge_list.post.astype(str)"
   ]
  },
  {
   "cell_type": "code",
   "execution_count": 3,
   "metadata": {},
   "outputs": [],
   "source": [
    "all_nodes = sorted(list(set(edge_list.pre.values) | set(edge_list.post.values)))"
   ]
  },
  {
   "cell_type": "code",
   "execution_count": 4,
   "metadata": {},
   "outputs": [],
   "source": [
    "# Nodes that need sorting. Nodes that don't have any pre or post synapses do not need sorting.\n",
    "changeable_nodes = sorted(list(set(edge_list.pre.values) & set(edge_list.post.values))) "
   ]
  },
  {
   "cell_type": "code",
   "execution_count": 5,
   "metadata": {},
   "outputs": [],
   "source": [
    "node_name_dict = dict(zip(all_nodes, range(len(all_nodes))))\n",
    "\n",
    "edge_list.pre = edge_list.pre.apply(lambda x: node_name_dict[x])\n",
    "edge_list.post = edge_list.post.apply(lambda x: node_name_dict[x])"
   ]
  },
  {
   "cell_type": "markdown",
   "metadata": {},
   "source": [
    "### benchmark:"
   ]
  },
  {
   "cell_type": "code",
   "execution_count": 6,
   "metadata": {},
   "outputs": [
    {
     "name": "stdout",
     "output_type": "stream",
     "text": [
      "benchmark solution: 29023882\n"
     ]
    }
   ],
   "source": [
    "benchmark = pd.read_csv('./data/benchmark.csv')\n",
    "benchmark.rename(columns={'Node ID':'n_id', 'Order':'order'}, inplace=True)\n",
    "benchmark.n_id = benchmark.n_id.astype('str')\n",
    "benchmark.n_id = benchmark.n_id.apply(lambda x: node_name_dict[x])\n",
    "\n",
    "benchmark_dict = benchmark.set_index('n_id')['order'].to_dict()\n",
    "benchmark_id_order = benchmark.n_id.tolist()\n",
    "\n",
    "# how to calculate feedforwardness:\n",
    "edge_list['pre_order'] = edge_list['pre'].apply(lambda x: benchmark_dict[x])\n",
    "edge_list['post_order'] = edge_list['post'].apply(lambda x: benchmark_dict[x])\n",
    "\n",
    "edge_list['is_forward'] = edge_list['pre_order'] - edge_list['post_order'] < 0\n",
    "\n",
    "print('benchmark solution:', edge_list[edge_list['is_forward']].weight.sum())"
   ]
  },
  {
   "cell_type": "markdown",
   "metadata": {},
   "source": [
    "# Imports:"
   ]
  },
  {
   "cell_type": "code",
   "execution_count": 7,
   "metadata": {},
   "outputs": [],
   "source": [
    "# import the model:\n",
    "from src.graphpeeler import layer_realisation"
   ]
  },
  {
   "cell_type": "markdown",
   "metadata": {},
   "source": [
    "## Prepare probability of selection:"
   ]
  },
  {
   "cell_type": "code",
   "execution_count": 8,
   "metadata": {},
   "outputs": [],
   "source": [
    "bodyId_posts = edge_list['post'].values\n",
    "bodyId_pres = edge_list['pre'].values\n",
    "out_only = list(set(bodyId_pres) - set(bodyId_posts)) # nodes that only have outedges.\n",
    "\n",
    "in_strengths = edge_list.groupby('post').weight.sum().to_dict()\n",
    "out_strengths = edge_list.groupby('pre').weight.sum().to_dict()\n",
    "\n",
    "weights = edge_list['weight'].values\n",
    "edge_df = edge_list.copy(True)\n",
    "\n",
    "# weight of edges as a proportion of their strength:\n",
    "edge_df['in_prop_weight'] = [weights[i]/in_strengths.get(bodyId_posts[i]) for i in range(len(edge_df))] \n",
    "edge_df['out_prop_weight'] = [weights[i]/out_strengths.get(bodyId_pres[i]) for i in range(len(edge_df))]\n",
    "\n",
    "# out-strength as a proportion of the total in and out strength:\n",
    "out_strength_prop = {i : out_strengths.get(i, 0)/(in_strengths.get(i, 0) + out_strengths.get(i, 0)) for i in list(node_name_dict.values())}\n"
   ]
  },
  {
   "cell_type": "code",
   "execution_count": 9,
   "metadata": {},
   "outputs": [],
   "source": [
    "# combine to give: p_{ij}\n",
    "edge_df['in_div_out_prop_weight'] = [weights[i]*out_strength_prop[bodyId_posts[i]]/in_strengths.get(bodyId_posts[i]) for i in range(len(edge_df))]"
   ]
  },
  {
   "cell_type": "markdown",
   "metadata": {},
   "source": [
    "# run the model:"
   ]
  },
  {
   "cell_type": "code",
   "execution_count": 23,
   "metadata": {},
   "outputs": [],
   "source": [
    "N = 50 # number of realisations\n",
    "prepost = 'pre' # run the model forwards by taking the direction of traversal pre --> post. \n",
    "start_ids = out_only # start the 0th layer with nodes that don't have any preceding edges."
   ]
  },
  {
   "cell_type": "code",
   "execution_count": 24,
   "metadata": {},
   "outputs": [],
   "source": [
    "d_layers = []\n",
    "for i in range(N): \n",
    "    nth_r = layer_realisation(df=edge_df, start_ids=start_ids, prepost=prepost, seed=i, prop_weight='in_div_out_prop_weight', correction=1)\n",
    "    id_to_layer = {}\n",
    "    for key, val in nth_r.items():\n",
    "        for neuron in val:\n",
    "            id_to_layer[neuron] = key\n",
    "    d_layers.append(pd.Series(id_to_layer, name=f'r_{i}'))\n",
    "# 13 mins for N=50"
   ]
  },
  {
   "cell_type": "code",
   "execution_count": 25,
   "metadata": {},
   "outputs": [],
   "source": [
    "d_layer_df = pd.concat(d_layers, axis=1)\n",
    "d_colname = f'm_ds_layer'\n",
    "d_layer_df[d_colname] = d_layer_df.mean(axis=1).sort_values()#.round(0).astype(int) # take the mean layer across all the runs\n",
    "d_layer_df.index.names=['bodyId']\n",
    "d_layer_df = d_layer_df[[d_colname]]"
   ]
  },
  {
   "cell_type": "code",
   "execution_count": 26,
   "metadata": {},
   "outputs": [
    {
     "data": {
      "image/png": "[encoded data removed]",
      "text/plain": [
       "<Figure size 432x288 with 1 Axes>"
      ]
     },
     "metadata": {
      "needs_background": "light"
     },
     "output_type": "display_data"
    }
   ],
   "source": [
    "plt.plot(d_layer_df[d_layer_df[d_colname]>0].groupby(d_colname).apply(len), '.')\n",
    "plt.xlabel('Layer #', size=20)\n",
    "plt.ylabel('Number of nodes', size=20)\n",
    "plt.show()"
   ]
  },
  {
   "cell_type": "markdown",
   "metadata": {},
   "source": [
    "## evaluate the model"
   ]
  },
  {
   "cell_type": "code",
   "execution_count": 27,
   "metadata": {},
   "outputs": [],
   "source": [
    "d_layer_df['benchmark'] = [benchmark_dict[x] for x in  d_layer_df.index.values]\n",
    "sorted_d_layer_df = d_layer_df.sort_values([d_colname, 'benchmark'])\n",
    "proposed_id_order = sorted_d_layer_df.index.values\n",
    "proposed_id_order_dict = dict(zip(proposed_id_order, range(len(proposed_id_order))))"
   ]
  },
  {
   "cell_type": "code",
   "execution_count": 28,
   "metadata": {},
   "outputs": [],
   "source": [
    "disconnected_neurons = set(benchmark_dict.keys()) - set(proposed_id_order_dict.keys())\n",
    "from_benchmark_disconnected = {x:benchmark_dict[x]+len(all_nodes) for x in disconnected_neurons}\n",
    "total_proposed_dict = proposed_id_order_dict | from_benchmark_disconnected\n",
    "\n",
    "\n",
    "eval_df = edge_list.copy(True)\n",
    "eval_df['pre_order'] = eval_df['pre'].apply(lambda x: total_proposed_dict[x])\n",
    "eval_df['post_order'] = eval_df['post'].apply(lambda x: total_proposed_dict[x])\n",
    "eval_df['is_forward'] = eval_df['pre_order'] - eval_df['post_order'] < 0"
   ]
  },
  {
   "cell_type": "code",
   "execution_count": 29,
   "metadata": {},
   "outputs": [
    {
     "name": "stdout",
     "output_type": "stream",
     "text": [
      "proposed solution: 29193811\n",
      "benchmark solution: 29023882\n",
      "Score: 0.6965\n",
      "Benchmark comparison: 169929\n",
      "\n",
      "\n",
      "Does better than benchmark :)\n"
     ]
    }
   ],
   "source": [
    "print('proposed solution:', eval_df[eval_df['is_forward']].weight.sum())\n",
    "print('benchmark solution:', edge_list[edge_list['is_forward']].weight.sum())\n",
    "score = eval_df[eval_df['is_forward']].weight.sum()/edge_list.weight.sum()\n",
    "benchmark_comparison = eval_df[eval_df['is_forward']].weight.sum() -edge_list[edge_list['is_forward']].weight.sum()\n",
    "\n",
    "print(f'Score: {score:.4f}')\n",
    "print('Benchmark comparison:', benchmark_comparison)\n",
    "print('\\n')\n",
    "if benchmark_comparison > 0:\n",
    "    print('Does better than benchmark :)')\n",
    "else:\n",
    "    print('Does worse than benchmark :(')"
   ]
  },
  {
   "cell_type": "markdown",
   "metadata": {},
   "source": [
    "### save as file:"
   ]
  },
  {
   "cell_type": "code",
   "execution_count": 30,
   "metadata": {},
   "outputs": [],
   "source": [
    "numbername_node_dict = dict(zip(range(len(all_nodes)), all_nodes))\n",
    "proposed_order = {numbername_node_dict[key]:val for key, val in total_proposed_dict.items()}\n",
    "\n",
    "pd.DataFrame.from_dict(proposed_order, orient='index', columns=['Order']).reset_index().sort_values('Order').reset_index(drop=True).reset_index().iloc[:,:2].rename(columns={'level_0':'Order', 'index':'Node ID'}).set_index('Node ID').to_csv('./data/output.csv')"
   ]
  }
 ],
 "metadata": {
  "kernelspec": {
   "display_name": "base",
   "language": "python",
   "name": "python3"
  },
  "language_info": {
   "codemirror_mode": {
    "name": "ipython",
    "version": 3
   },
   "file_extension": ".py",
   "mimetype": "text/x-python",
   "name": "python",
   "nbconvert_exporter": "python",
   "pygments_lexer": "ipython3",
   "version": "3.9.7"
  }
 },
 "nbformat": 4,
 "nbformat_minor": 2
}
